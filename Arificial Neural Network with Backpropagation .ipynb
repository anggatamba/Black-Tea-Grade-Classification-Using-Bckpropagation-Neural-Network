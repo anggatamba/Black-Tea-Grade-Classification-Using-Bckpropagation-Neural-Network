{
 "cells": [
  {
   "cell_type": "code",
   "execution_count": 1,
   "id": "4ef43396",
   "metadata": {},
   "outputs": [],
   "source": [
    "import numpy as np \n",
    "import pandas as pd \n",
    "import seaborn as sns \n",
    "import matplotlib.pyplot as plt\n",
    "%matplotlib inline"
   ]
  },
  {
   "cell_type": "code",
   "execution_count": 2,
   "id": "39a55595",
   "metadata": {},
   "outputs": [],
   "source": [
    "import warnings\n",
    "warnings.filterwarnings(\"ignore\")"
   ]
  },
  {
   "cell_type": "markdown",
   "id": "062b007d",
   "metadata": {},
   "source": [
    "upload dataset"
   ]
  },
  {
   "cell_type": "code",
   "execution_count": 3,
   "id": "35acb6fd",
   "metadata": {},
   "outputs": [
    {
     "data": {
      "text/html": [
       "<div>\n",
       "<style scoped>\n",
       "    .dataframe tbody tr th:only-of-type {\n",
       "        vertical-align: middle;\n",
       "    }\n",
       "\n",
       "    .dataframe tbody tr th {\n",
       "        vertical-align: top;\n",
       "    }\n",
       "\n",
       "    .dataframe thead th {\n",
       "        text-align: right;\n",
       "    }\n",
       "</style>\n",
       "<table border=\"1\" class=\"dataframe\">\n",
       "  <thead>\n",
       "    <tr style=\"text-align: right;\">\n",
       "      <th></th>\n",
       "      <th>Warna</th>\n",
       "      <th>Ukuran Partikel</th>\n",
       "      <th>Density</th>\n",
       "      <th>Bentuk Partikel</th>\n",
       "      <th>Grade</th>\n",
       "    </tr>\n",
       "  </thead>\n",
       "  <tbody>\n",
       "    <tr>\n",
       "      <th>0</th>\n",
       "      <td>1</td>\n",
       "      <td>12</td>\n",
       "      <td>340</td>\n",
       "      <td>1</td>\n",
       "      <td>1</td>\n",
       "    </tr>\n",
       "    <tr>\n",
       "      <th>1</th>\n",
       "      <td>2</td>\n",
       "      <td>12</td>\n",
       "      <td>350</td>\n",
       "      <td>1</td>\n",
       "      <td>2</td>\n",
       "    </tr>\n",
       "    <tr>\n",
       "      <th>2</th>\n",
       "      <td>2</td>\n",
       "      <td>14</td>\n",
       "      <td>350</td>\n",
       "      <td>3</td>\n",
       "      <td>1</td>\n",
       "    </tr>\n",
       "    <tr>\n",
       "      <th>3</th>\n",
       "      <td>1</td>\n",
       "      <td>12</td>\n",
       "      <td>280</td>\n",
       "      <td>3</td>\n",
       "      <td>1</td>\n",
       "    </tr>\n",
       "    <tr>\n",
       "      <th>4</th>\n",
       "      <td>2</td>\n",
       "      <td>14</td>\n",
       "      <td>440</td>\n",
       "      <td>2</td>\n",
       "      <td>1</td>\n",
       "    </tr>\n",
       "  </tbody>\n",
       "</table>\n",
       "</div>"
      ],
      "text/plain": [
       "   Warna  Ukuran Partikel  Density  Bentuk Partikel  Grade\n",
       "0      1               12      340                1      1\n",
       "1      2               12      350                1      2\n",
       "2      2               14      350                3      1\n",
       "3      1               12      280                3      1\n",
       "4      2               14      440                2      1"
      ]
     },
     "execution_count": 3,
     "metadata": {},
     "output_type": "execute_result"
    }
   ],
   "source": [
    "data = pd.read_csv(\"teh.csv\")\n",
    "pd.set_option('display.max_rows',476)\n",
    "data.head()"
   ]
  },
  {
   "cell_type": "markdown",
   "id": "27235619",
   "metadata": {},
   "source": [
    "cek missing value"
   ]
  },
  {
   "cell_type": "code",
   "execution_count": 4,
   "id": "5fd88ad2",
   "metadata": {},
   "outputs": [
    {
     "data": {
      "text/plain": [
       "Warna              0\n",
       "Ukuran Partikel    0\n",
       "Density            0\n",
       "Bentuk Partikel    0\n",
       "Grade              0\n",
       "dtype: int64"
      ]
     },
     "execution_count": 4,
     "metadata": {},
     "output_type": "execute_result"
    }
   ],
   "source": [
    "data.isnull().sum()"
   ]
  },
  {
   "cell_type": "code",
   "execution_count": 5,
   "id": "4d1fad66",
   "metadata": {},
   "outputs": [
    {
     "data": {
      "text/html": [
       "<div>\n",
       "<style scoped>\n",
       "    .dataframe tbody tr th:only-of-type {\n",
       "        vertical-align: middle;\n",
       "    }\n",
       "\n",
       "    .dataframe tbody tr th {\n",
       "        vertical-align: top;\n",
       "    }\n",
       "\n",
       "    .dataframe thead th {\n",
       "        text-align: right;\n",
       "    }\n",
       "</style>\n",
       "<table border=\"1\" class=\"dataframe\">\n",
       "  <thead>\n",
       "    <tr style=\"text-align: right;\">\n",
       "      <th></th>\n",
       "      <th>Warna</th>\n",
       "      <th>Ukuran Partikel</th>\n",
       "      <th>Density</th>\n",
       "      <th>Bentuk Partikel</th>\n",
       "      <th>Grade</th>\n",
       "    </tr>\n",
       "  </thead>\n",
       "  <tbody>\n",
       "    <tr>\n",
       "      <th>count</th>\n",
       "      <td>476.000000</td>\n",
       "      <td>476.000000</td>\n",
       "      <td>476.000000</td>\n",
       "      <td>476.000000</td>\n",
       "      <td>476.000000</td>\n",
       "    </tr>\n",
       "    <tr>\n",
       "      <th>mean</th>\n",
       "      <td>2.058824</td>\n",
       "      <td>22.521008</td>\n",
       "      <td>327.823529</td>\n",
       "      <td>2.294118</td>\n",
       "      <td>1.764706</td>\n",
       "    </tr>\n",
       "    <tr>\n",
       "      <th>std</th>\n",
       "      <td>0.725988</td>\n",
       "      <td>12.535994</td>\n",
       "      <td>64.847727</td>\n",
       "      <td>1.177708</td>\n",
       "      <td>0.645057</td>\n",
       "    </tr>\n",
       "    <tr>\n",
       "      <th>min</th>\n",
       "      <td>1.000000</td>\n",
       "      <td>10.000000</td>\n",
       "      <td>190.000000</td>\n",
       "      <td>1.000000</td>\n",
       "      <td>1.000000</td>\n",
       "    </tr>\n",
       "    <tr>\n",
       "      <th>25%</th>\n",
       "      <td>2.000000</td>\n",
       "      <td>14.000000</td>\n",
       "      <td>280.000000</td>\n",
       "      <td>1.000000</td>\n",
       "      <td>1.000000</td>\n",
       "    </tr>\n",
       "    <tr>\n",
       "      <th>50%</th>\n",
       "      <td>2.000000</td>\n",
       "      <td>18.000000</td>\n",
       "      <td>335.000000</td>\n",
       "      <td>2.000000</td>\n",
       "      <td>2.000000</td>\n",
       "    </tr>\n",
       "    <tr>\n",
       "      <th>75%</th>\n",
       "      <td>3.000000</td>\n",
       "      <td>30.000000</td>\n",
       "      <td>365.000000</td>\n",
       "      <td>3.000000</td>\n",
       "      <td>2.000000</td>\n",
       "    </tr>\n",
       "    <tr>\n",
       "      <th>max</th>\n",
       "      <td>3.000000</td>\n",
       "      <td>60.000000</td>\n",
       "      <td>482.000000</td>\n",
       "      <td>4.000000</td>\n",
       "      <td>3.000000</td>\n",
       "    </tr>\n",
       "  </tbody>\n",
       "</table>\n",
       "</div>"
      ],
      "text/plain": [
       "            Warna  Ukuran Partikel     Density  Bentuk Partikel       Grade\n",
       "count  476.000000       476.000000  476.000000       476.000000  476.000000\n",
       "mean     2.058824        22.521008  327.823529         2.294118    1.764706\n",
       "std      0.725988        12.535994   64.847727         1.177708    0.645057\n",
       "min      1.000000        10.000000  190.000000         1.000000    1.000000\n",
       "25%      2.000000        14.000000  280.000000         1.000000    1.000000\n",
       "50%      2.000000        18.000000  335.000000         2.000000    2.000000\n",
       "75%      3.000000        30.000000  365.000000         3.000000    2.000000\n",
       "max      3.000000        60.000000  482.000000         4.000000    3.000000"
      ]
     },
     "execution_count": 5,
     "metadata": {},
     "output_type": "execute_result"
    }
   ],
   "source": [
    "data.describe()"
   ]
  },
  {
   "cell_type": "markdown",
   "id": "df8d38d8",
   "metadata": {},
   "source": [
    "Normalisasi Data dengan menggunakan min-max"
   ]
  },
  {
   "cell_type": "code",
   "execution_count": 7,
   "id": "16a549c1",
   "metadata": {},
   "outputs": [
    {
     "data": {
      "text/html": [
       "<div>\n",
       "<style scoped>\n",
       "    .dataframe tbody tr th:only-of-type {\n",
       "        vertical-align: middle;\n",
       "    }\n",
       "\n",
       "    .dataframe tbody tr th {\n",
       "        vertical-align: top;\n",
       "    }\n",
       "\n",
       "    .dataframe thead th {\n",
       "        text-align: right;\n",
       "    }\n",
       "</style>\n",
       "<table border=\"1\" class=\"dataframe\">\n",
       "  <thead>\n",
       "    <tr style=\"text-align: right;\">\n",
       "      <th></th>\n",
       "      <th>Warna</th>\n",
       "      <th>Ukuran Partikel</th>\n",
       "      <th>Density</th>\n",
       "      <th>Bentuk Partikel</th>\n",
       "    </tr>\n",
       "  </thead>\n",
       "  <tbody>\n",
       "    <tr>\n",
       "      <th>272</th>\n",
       "      <td>0.0</td>\n",
       "      <td>0.08</td>\n",
       "      <td>0.582192</td>\n",
       "      <td>0.000000</td>\n",
       "    </tr>\n",
       "    <tr>\n",
       "      <th>393</th>\n",
       "      <td>0.5</td>\n",
       "      <td>0.12</td>\n",
       "      <td>0.565068</td>\n",
       "      <td>0.666667</td>\n",
       "    </tr>\n",
       "    <tr>\n",
       "      <th>122</th>\n",
       "      <td>0.0</td>\n",
       "      <td>0.08</td>\n",
       "      <td>0.308219</td>\n",
       "      <td>0.666667</td>\n",
       "    </tr>\n",
       "    <tr>\n",
       "      <th>364</th>\n",
       "      <td>0.5</td>\n",
       "      <td>0.04</td>\n",
       "      <td>0.291096</td>\n",
       "      <td>0.000000</td>\n",
       "    </tr>\n",
       "    <tr>\n",
       "      <th>256</th>\n",
       "      <td>0.5</td>\n",
       "      <td>0.08</td>\n",
       "      <td>0.582192</td>\n",
       "      <td>0.000000</td>\n",
       "    </tr>\n",
       "  </tbody>\n",
       "</table>\n",
       "</div>"
      ],
      "text/plain": [
       "     Warna  Ukuran Partikel   Density  Bentuk Partikel\n",
       "272    0.0             0.08  0.582192         0.000000\n",
       "393    0.5             0.12  0.565068         0.666667\n",
       "122    0.0             0.08  0.308219         0.666667\n",
       "364    0.5             0.04  0.291096         0.000000\n",
       "256    0.5             0.08  0.582192         0.000000"
      ]
     },
     "execution_count": 7,
     "metadata": {},
     "output_type": "execute_result"
    }
   ],
   "source": [
    "df_norm = data[['Warna','Ukuran Partikel','Density','Bentuk Partikel']].apply(lambda x: (x - x.min()) / (x.max() - x.min()))\n",
    "#print(df_norm)\n",
    "pd.set_option('display.max_rows',476)\n",
    "df_norm.sample(n=5)"
   ]
  },
  {
   "cell_type": "code",
   "execution_count": 8,
   "id": "242eb62a",
   "metadata": {},
   "outputs": [
    {
     "data": {
      "text/html": [
       "<div>\n",
       "<style scoped>\n",
       "    .dataframe tbody tr th:only-of-type {\n",
       "        vertical-align: middle;\n",
       "    }\n",
       "\n",
       "    .dataframe tbody tr th {\n",
       "        vertical-align: top;\n",
       "    }\n",
       "\n",
       "    .dataframe thead th {\n",
       "        text-align: right;\n",
       "    }\n",
       "</style>\n",
       "<table border=\"1\" class=\"dataframe\">\n",
       "  <thead>\n",
       "    <tr style=\"text-align: right;\">\n",
       "      <th></th>\n",
       "      <th>Warna</th>\n",
       "      <th>Ukuran Partikel</th>\n",
       "      <th>Density</th>\n",
       "      <th>Bentuk Partikel</th>\n",
       "    </tr>\n",
       "  </thead>\n",
       "  <tbody>\n",
       "    <tr>\n",
       "      <th>count</th>\n",
       "      <td>476.000000</td>\n",
       "      <td>476.00000</td>\n",
       "      <td>476.000000</td>\n",
       "      <td>476.000000</td>\n",
       "    </tr>\n",
       "    <tr>\n",
       "      <th>mean</th>\n",
       "      <td>0.529412</td>\n",
       "      <td>0.25042</td>\n",
       "      <td>0.471998</td>\n",
       "      <td>0.431373</td>\n",
       "    </tr>\n",
       "    <tr>\n",
       "      <th>std</th>\n",
       "      <td>0.362994</td>\n",
       "      <td>0.25072</td>\n",
       "      <td>0.222081</td>\n",
       "      <td>0.392569</td>\n",
       "    </tr>\n",
       "    <tr>\n",
       "      <th>min</th>\n",
       "      <td>0.000000</td>\n",
       "      <td>0.00000</td>\n",
       "      <td>0.000000</td>\n",
       "      <td>0.000000</td>\n",
       "    </tr>\n",
       "    <tr>\n",
       "      <th>25%</th>\n",
       "      <td>0.500000</td>\n",
       "      <td>0.08000</td>\n",
       "      <td>0.308219</td>\n",
       "      <td>0.000000</td>\n",
       "    </tr>\n",
       "    <tr>\n",
       "      <th>50%</th>\n",
       "      <td>0.500000</td>\n",
       "      <td>0.16000</td>\n",
       "      <td>0.496575</td>\n",
       "      <td>0.333333</td>\n",
       "    </tr>\n",
       "    <tr>\n",
       "      <th>75%</th>\n",
       "      <td>1.000000</td>\n",
       "      <td>0.40000</td>\n",
       "      <td>0.599315</td>\n",
       "      <td>0.666667</td>\n",
       "    </tr>\n",
       "    <tr>\n",
       "      <th>max</th>\n",
       "      <td>1.000000</td>\n",
       "      <td>1.00000</td>\n",
       "      <td>1.000000</td>\n",
       "      <td>1.000000</td>\n",
       "    </tr>\n",
       "  </tbody>\n",
       "</table>\n",
       "</div>"
      ],
      "text/plain": [
       "            Warna  Ukuran Partikel     Density  Bentuk Partikel\n",
       "count  476.000000        476.00000  476.000000       476.000000\n",
       "mean     0.529412          0.25042    0.471998         0.431373\n",
       "std      0.362994          0.25072    0.222081         0.392569\n",
       "min      0.000000          0.00000    0.000000         0.000000\n",
       "25%      0.500000          0.08000    0.308219         0.000000\n",
       "50%      0.500000          0.16000    0.496575         0.333333\n",
       "75%      1.000000          0.40000    0.599315         0.666667\n",
       "max      1.000000          1.00000    1.000000         1.000000"
      ]
     },
     "execution_count": 8,
     "metadata": {},
     "output_type": "execute_result"
    }
   ],
   "source": [
    "df_norm.describe()"
   ]
  },
  {
   "cell_type": "code",
   "execution_count": 10,
   "id": "7b03bee6",
   "metadata": {},
   "outputs": [
    {
     "data": {
      "text/html": [
       "<div>\n",
       "<style scoped>\n",
       "    .dataframe tbody tr th:only-of-type {\n",
       "        vertical-align: middle;\n",
       "    }\n",
       "\n",
       "    .dataframe tbody tr th {\n",
       "        vertical-align: top;\n",
       "    }\n",
       "\n",
       "    .dataframe thead th {\n",
       "        text-align: right;\n",
       "    }\n",
       "</style>\n",
       "<table border=\"1\" class=\"dataframe\">\n",
       "  <thead>\n",
       "    <tr style=\"text-align: right;\">\n",
       "      <th></th>\n",
       "      <th>Grade</th>\n",
       "    </tr>\n",
       "  </thead>\n",
       "  <tbody>\n",
       "    <tr>\n",
       "      <th>357</th>\n",
       "      <td>0</td>\n",
       "    </tr>\n",
       "    <tr>\n",
       "      <th>77</th>\n",
       "      <td>1</td>\n",
       "    </tr>\n",
       "    <tr>\n",
       "      <th>411</th>\n",
       "      <td>0</td>\n",
       "    </tr>\n",
       "    <tr>\n",
       "      <th>6</th>\n",
       "      <td>0</td>\n",
       "    </tr>\n",
       "    <tr>\n",
       "      <th>245</th>\n",
       "      <td>1</td>\n",
       "    </tr>\n",
       "  </tbody>\n",
       "</table>\n",
       "</div>"
      ],
      "text/plain": [
       "     Grade\n",
       "357      0\n",
       "77       1\n",
       "411      0\n",
       "6        0\n",
       "245      1"
      ]
     },
     "execution_count": 10,
     "metadata": {},
     "output_type": "execute_result"
    }
   ],
   "source": [
    "target = data[['Grade']].replace([1,2,3],[0,1,2])\n",
    "pd.set_option('display.max_rows',476) \n",
    "#print(target)\n",
    "target.sample(n=5)"
   ]
  },
  {
   "cell_type": "code",
   "execution_count": 11,
   "id": "0fa41d23",
   "metadata": {},
   "outputs": [
    {
     "data": {
      "text/html": [
       "<div>\n",
       "<style scoped>\n",
       "    .dataframe tbody tr th:only-of-type {\n",
       "        vertical-align: middle;\n",
       "    }\n",
       "\n",
       "    .dataframe tbody tr th {\n",
       "        vertical-align: top;\n",
       "    }\n",
       "\n",
       "    .dataframe thead th {\n",
       "        text-align: right;\n",
       "    }\n",
       "</style>\n",
       "<table border=\"1\" class=\"dataframe\">\n",
       "  <thead>\n",
       "    <tr style=\"text-align: right;\">\n",
       "      <th></th>\n",
       "      <th>Warna</th>\n",
       "      <th>Ukuran Partikel</th>\n",
       "      <th>Density</th>\n",
       "      <th>Bentuk Partikel</th>\n",
       "      <th>Grade</th>\n",
       "    </tr>\n",
       "  </thead>\n",
       "  <tbody>\n",
       "    <tr>\n",
       "      <th>228</th>\n",
       "      <td>0.5</td>\n",
       "      <td>0.08</td>\n",
       "      <td>0.239726</td>\n",
       "      <td>0.000000</td>\n",
       "      <td>1</td>\n",
       "    </tr>\n",
       "    <tr>\n",
       "      <th>97</th>\n",
       "      <td>0.5</td>\n",
       "      <td>0.28</td>\n",
       "      <td>0.034247</td>\n",
       "      <td>1.000000</td>\n",
       "      <td>1</td>\n",
       "    </tr>\n",
       "    <tr>\n",
       "      <th>86</th>\n",
       "      <td>0.5</td>\n",
       "      <td>0.00</td>\n",
       "      <td>0.582192</td>\n",
       "      <td>0.000000</td>\n",
       "      <td>1</td>\n",
       "    </tr>\n",
       "    <tr>\n",
       "      <th>58</th>\n",
       "      <td>0.5</td>\n",
       "      <td>0.04</td>\n",
       "      <td>0.256849</td>\n",
       "      <td>0.000000</td>\n",
       "      <td>1</td>\n",
       "    </tr>\n",
       "    <tr>\n",
       "      <th>106</th>\n",
       "      <td>0.5</td>\n",
       "      <td>0.12</td>\n",
       "      <td>0.924658</td>\n",
       "      <td>0.333333</td>\n",
       "      <td>0</td>\n",
       "    </tr>\n",
       "  </tbody>\n",
       "</table>\n",
       "</div>"
      ],
      "text/plain": [
       "     Warna  Ukuran Partikel   Density  Bentuk Partikel  Grade\n",
       "228    0.5             0.08  0.239726         0.000000      1\n",
       "97     0.5             0.28  0.034247         1.000000      1\n",
       "86     0.5             0.00  0.582192         0.000000      1\n",
       "58     0.5             0.04  0.256849         0.000000      1\n",
       "106    0.5             0.12  0.924658         0.333333      0"
      ]
     },
     "execution_count": 11,
     "metadata": {},
     "output_type": "execute_result"
    }
   ],
   "source": [
    "df = pd.concat([df_norm, target], axis=1)\n",
    "pd.set_option('display.max_rows',476) \n",
    "#print(df)\n",
    "df.sample(n=5)"
   ]
  },
  {
   "cell_type": "markdown",
   "id": "fbbe3c40",
   "metadata": {},
   "source": [
    "split data testing dan data training"
   ]
  },
  {
   "cell_type": "code",
   "execution_count": 14,
   "id": "e1ed016c",
   "metadata": {},
   "outputs": [
    {
     "data": {
      "text/html": [
       "<div>\n",
       "<style scoped>\n",
       "    .dataframe tbody tr th:only-of-type {\n",
       "        vertical-align: middle;\n",
       "    }\n",
       "\n",
       "    .dataframe tbody tr th {\n",
       "        vertical-align: top;\n",
       "    }\n",
       "\n",
       "    .dataframe thead th {\n",
       "        text-align: right;\n",
       "    }\n",
       "</style>\n",
       "<table border=\"1\" class=\"dataframe\">\n",
       "  <thead>\n",
       "    <tr style=\"text-align: right;\">\n",
       "      <th></th>\n",
       "      <th>Warna</th>\n",
       "      <th>Ukuran Partikel</th>\n",
       "      <th>Density</th>\n",
       "      <th>Bentuk Partikel</th>\n",
       "      <th>Grade</th>\n",
       "      <th>train</th>\n",
       "    </tr>\n",
       "  </thead>\n",
       "  <tbody>\n",
       "    <tr>\n",
       "      <th>107</th>\n",
       "      <td>0.0</td>\n",
       "      <td>0.16</td>\n",
       "      <td>0.428082</td>\n",
       "      <td>0.000000</td>\n",
       "      <td>0</td>\n",
       "      <td>True</td>\n",
       "    </tr>\n",
       "    <tr>\n",
       "      <th>199</th>\n",
       "      <td>0.5</td>\n",
       "      <td>0.28</td>\n",
       "      <td>0.462329</td>\n",
       "      <td>1.000000</td>\n",
       "      <td>1</td>\n",
       "      <td>True</td>\n",
       "    </tr>\n",
       "    <tr>\n",
       "      <th>445</th>\n",
       "      <td>0.0</td>\n",
       "      <td>0.08</td>\n",
       "      <td>0.428082</td>\n",
       "      <td>0.666667</td>\n",
       "      <td>0</td>\n",
       "      <td>True</td>\n",
       "    </tr>\n",
       "    <tr>\n",
       "      <th>54</th>\n",
       "      <td>0.0</td>\n",
       "      <td>0.08</td>\n",
       "      <td>0.308219</td>\n",
       "      <td>0.666667</td>\n",
       "      <td>0</td>\n",
       "      <td>True</td>\n",
       "    </tr>\n",
       "    <tr>\n",
       "      <th>22</th>\n",
       "      <td>0.0</td>\n",
       "      <td>0.16</td>\n",
       "      <td>0.410959</td>\n",
       "      <td>0.000000</td>\n",
       "      <td>0</td>\n",
       "      <td>False</td>\n",
       "    </tr>\n",
       "  </tbody>\n",
       "</table>\n",
       "</div>"
      ],
      "text/plain": [
       "     Warna  Ukuran Partikel   Density  Bentuk Partikel  Grade  train\n",
       "107    0.0             0.16  0.428082         0.000000      0   True\n",
       "199    0.5             0.28  0.462329         1.000000      1   True\n",
       "445    0.0             0.08  0.428082         0.666667      0   True\n",
       "54     0.0             0.08  0.308219         0.666667      0   True\n",
       "22     0.0             0.16  0.410959         0.000000      0  False"
      ]
     },
     "execution_count": 14,
     "metadata": {},
     "output_type": "execute_result"
    }
   ],
   "source": [
    "train_test_per = 90/100.0\n",
    "df['train'] = np.random.rand(len(df)) < train_test_per\n",
    "pd.set_option('display.max_rows',476) \n",
    "#print(df)\n",
    "df.sample(n=5)\n"
   ]
  },
  {
   "cell_type": "code",
   "execution_count": 16,
   "id": "1e3f511d",
   "metadata": {},
   "outputs": [
    {
     "name": "stdout",
     "output_type": "stream",
     "text": [
      "jumlah data yang di latih sebesar: 433\n"
     ]
    },
    {
     "data": {
      "text/html": [
       "<div>\n",
       "<style scoped>\n",
       "    .dataframe tbody tr th:only-of-type {\n",
       "        vertical-align: middle;\n",
       "    }\n",
       "\n",
       "    .dataframe tbody tr th {\n",
       "        vertical-align: top;\n",
       "    }\n",
       "\n",
       "    .dataframe thead th {\n",
       "        text-align: right;\n",
       "    }\n",
       "</style>\n",
       "<table border=\"1\" class=\"dataframe\">\n",
       "  <thead>\n",
       "    <tr style=\"text-align: right;\">\n",
       "      <th></th>\n",
       "      <th>Warna</th>\n",
       "      <th>Ukuran Partikel</th>\n",
       "      <th>Density</th>\n",
       "      <th>Bentuk Partikel</th>\n",
       "      <th>Grade</th>\n",
       "    </tr>\n",
       "  </thead>\n",
       "  <tbody>\n",
       "    <tr>\n",
       "      <th>156</th>\n",
       "      <td>0.0</td>\n",
       "      <td>0.08</td>\n",
       "      <td>0.325342</td>\n",
       "      <td>0.666667</td>\n",
       "      <td>0</td>\n",
       "    </tr>\n",
       "    <tr>\n",
       "      <th>347</th>\n",
       "      <td>0.5</td>\n",
       "      <td>0.04</td>\n",
       "      <td>0.291096</td>\n",
       "      <td>0.000000</td>\n",
       "      <td>1</td>\n",
       "    </tr>\n",
       "    <tr>\n",
       "      <th>242</th>\n",
       "      <td>0.5</td>\n",
       "      <td>0.08</td>\n",
       "      <td>0.856164</td>\n",
       "      <td>0.333333</td>\n",
       "      <td>0</td>\n",
       "    </tr>\n",
       "    <tr>\n",
       "      <th>312</th>\n",
       "      <td>0.0</td>\n",
       "      <td>0.28</td>\n",
       "      <td>0.273973</td>\n",
       "      <td>1.000000</td>\n",
       "      <td>0</td>\n",
       "    </tr>\n",
       "    <tr>\n",
       "      <th>358</th>\n",
       "      <td>0.5</td>\n",
       "      <td>0.08</td>\n",
       "      <td>0.582192</td>\n",
       "      <td>0.000000</td>\n",
       "      <td>1</td>\n",
       "    </tr>\n",
       "  </tbody>\n",
       "</table>\n",
       "</div>"
      ],
      "text/plain": [
       "     Warna  Ukuran Partikel   Density  Bentuk Partikel  Grade\n",
       "156    0.0             0.08  0.325342         0.666667      0\n",
       "347    0.5             0.04  0.291096         0.000000      1\n",
       "242    0.5             0.08  0.856164         0.333333      0\n",
       "312    0.0             0.28  0.273973         1.000000      0\n",
       "358    0.5             0.08  0.582192         0.000000      1"
      ]
     },
     "execution_count": 16,
     "metadata": {},
     "output_type": "execute_result"
    }
   ],
   "source": [
    "train = df[df.train == 1]\n",
    "train = train.drop('train', axis=1)\n",
    "\n",
    "pd.set_option('display.max_rows',475)\n",
    "\n",
    "#print(train)\n",
    "print(\"jumlah data yang di latih sebesar:\",len(train.index))\n",
    "train.sample(n=5)"
   ]
  },
  {
   "cell_type": "code",
   "execution_count": 17,
   "id": "ef3868e8",
   "metadata": {},
   "outputs": [
    {
     "name": "stdout",
     "output_type": "stream",
     "text": [
      "Jumlah data test yang testing sebesar: 43\n"
     ]
    },
    {
     "data": {
      "text/html": [
       "<div>\n",
       "<style scoped>\n",
       "    .dataframe tbody tr th:only-of-type {\n",
       "        vertical-align: middle;\n",
       "    }\n",
       "\n",
       "    .dataframe tbody tr th {\n",
       "        vertical-align: top;\n",
       "    }\n",
       "\n",
       "    .dataframe thead th {\n",
       "        text-align: right;\n",
       "    }\n",
       "</style>\n",
       "<table border=\"1\" class=\"dataframe\">\n",
       "  <thead>\n",
       "    <tr style=\"text-align: right;\">\n",
       "      <th></th>\n",
       "      <th>Warna</th>\n",
       "      <th>Ukuran Partikel</th>\n",
       "      <th>Density</th>\n",
       "      <th>Bentuk Partikel</th>\n",
       "      <th>Grade</th>\n",
       "    </tr>\n",
       "  </thead>\n",
       "  <tbody>\n",
       "    <tr>\n",
       "      <th>13</th>\n",
       "      <td>0.5</td>\n",
       "      <td>0.40</td>\n",
       "      <td>0.359589</td>\n",
       "      <td>0.0</td>\n",
       "      <td>1</td>\n",
       "    </tr>\n",
       "    <tr>\n",
       "      <th>472</th>\n",
       "      <td>0.5</td>\n",
       "      <td>0.40</td>\n",
       "      <td>0.359589</td>\n",
       "      <td>0.0</td>\n",
       "      <td>1</td>\n",
       "    </tr>\n",
       "    <tr>\n",
       "      <th>182</th>\n",
       "      <td>0.5</td>\n",
       "      <td>0.40</td>\n",
       "      <td>0.051370</td>\n",
       "      <td>1.0</td>\n",
       "      <td>1</td>\n",
       "    </tr>\n",
       "    <tr>\n",
       "      <th>384</th>\n",
       "      <td>1.0</td>\n",
       "      <td>0.28</td>\n",
       "      <td>0.325342</td>\n",
       "      <td>1.0</td>\n",
       "      <td>1</td>\n",
       "    </tr>\n",
       "    <tr>\n",
       "      <th>277</th>\n",
       "      <td>0.0</td>\n",
       "      <td>0.16</td>\n",
       "      <td>0.376712</td>\n",
       "      <td>0.0</td>\n",
       "      <td>0</td>\n",
       "    </tr>\n",
       "  </tbody>\n",
       "</table>\n",
       "</div>"
      ],
      "text/plain": [
       "     Warna  Ukuran Partikel   Density  Bentuk Partikel  Grade\n",
       "13     0.5             0.40  0.359589              0.0      1\n",
       "472    0.5             0.40  0.359589              0.0      1\n",
       "182    0.5             0.40  0.051370              1.0      1\n",
       "384    1.0             0.28  0.325342              1.0      1\n",
       "277    0.0             0.16  0.376712              0.0      0"
      ]
     },
     "execution_count": 17,
     "metadata": {},
     "output_type": "execute_result"
    }
   ],
   "source": [
    "test = df[df.train == 0]\n",
    "test = test.drop('train', axis=1)\n",
    "\n",
    "#print(test)\n",
    "print(\"Jumlah data test yang testing sebesar:\",len(test.index))\n",
    "test.sample(n=5)"
   ]
  },
  {
   "cell_type": "code",
   "execution_count": 18,
   "id": "4adae6d0",
   "metadata": {},
   "outputs": [
    {
     "data": {
      "text/plain": [
       "array([[0.        , 0.04      , 0.51369863, 0.        ],\n",
       "       [0.5       , 0.04      , 0.54794521, 0.        ],\n",
       "       [0.5       , 0.08      , 0.54794521, 0.66666667],\n",
       "       [0.        , 0.04      , 0.30821918, 0.66666667],\n",
       "       [0.        , 0.16      , 0.44520548, 0.        ]])"
      ]
     },
     "execution_count": 18,
     "metadata": {},
     "output_type": "execute_result"
    }
   ],
   "source": [
    "X = train.values[:,:4]\n",
    "X[:5]"
   ]
  },
  {
   "cell_type": "code",
   "execution_count": 19,
   "id": "b1c76e83",
   "metadata": {},
   "outputs": [
    {
     "data": {
      "text/plain": [
       "array([[1, 0, 0],\n",
       "       [0, 1, 0],\n",
       "       [1, 0, 0],\n",
       "       [1, 0, 0],\n",
       "       [1, 0, 0]])"
      ]
     },
     "execution_count": 19,
     "metadata": {},
     "output_type": "execute_result"
    }
   ],
   "source": [
    "targets = [[1,0,0],[0,1,0],[0,0,1]]\n",
    "y = np.array([targets[int(x)] for x in train.values[:,4:5]])\n",
    "y[:5]\n"
   ]
  },
  {
   "cell_type": "markdown",
   "id": "1cc8e760",
   "metadata": {},
   "source": [
    "# Jaringan Syaraf Tiruan"
   ]
  },
  {
   "cell_type": "markdown",
   "id": "6e8087bf",
   "metadata": {},
   "source": [
    "Model yang di bentuk memiliki 3 layer, yaitu :\n",
    "\n",
    "1. Input Layer\n",
    "   Input layer terdiri dari : Warna, Ukuran Partikel, Density, Bantuk Partikel\n",
    "2. Output Layer\n",
    "   Output Layer terdiri dari Grade 1,2,3 dimana akan di representasikan dengan : \n",
    "   -> [1,0,0] sebagai Grade 1\n",
    "   -> [0,1,0] sebagai Grade 2\n",
    "   -> [0,0,1] sebagai Grade 3"
   ]
  },
  {
   "cell_type": "code",
   "execution_count": 20,
   "id": "273f6a82",
   "metadata": {},
   "outputs": [
    {
     "name": "stdout",
     "output_type": "stream",
     "text": [
      "[[0.96065656 0.5870367  0.96568908 0.73618623 0.72097865]\n",
      " [0.29231965 0.96888426 0.10554493 0.3251543  0.48696446]\n",
      " [0.7936508  0.27593972 0.86806398 0.9752266  0.24581959]\n",
      " [0.63162721 0.10799763 0.44404844 0.13930245 0.95142114]]\n",
      "[-0.12770671  0.89795461  0.57261197  0.7325786  -0.65366916]\n"
     ]
    }
   ],
   "source": [
    "num_inputs = len(X[0])\n",
    "hidden_layer_neurons = 5\n",
    "np.random.seed(4)\n",
    "w1 =np.random.uniform(low= 0.1, high=0.99,size=(num_inputs,hidden_layer_neurons))\n",
    "bias1 = 2*np.random.random(hidden_layer_neurons) - 1\n",
    "print(w1)\n",
    "print(bias1)"
   ]
  },
  {
   "cell_type": "code",
   "execution_count": 21,
   "id": "05e7be91",
   "metadata": {},
   "outputs": [
    {
     "name": "stdout",
     "output_type": "stream",
     "text": [
      "[[0.16670424 0.63466102 0.24949524]\n",
      " [0.75270835 0.46351504 0.56983885]\n",
      " [0.93443871 0.56430955 0.19629211]\n",
      " [0.24081883 0.58523036 0.56671963]\n",
      " [0.66747312 0.45733094 0.67832655]]\n",
      "[-0.20619999  0.24783223  0.53480993]\n"
     ]
    }
   ],
   "source": [
    "num_outputs = len(y[0])\n",
    "w2 = np.random.uniform(low=0.1, high=0.99, size=(hidden_layer_neurons,num_outputs))\n",
    "bias2 = 2*np.random.random(num_outputs) - 1\n",
    "print(w2)\n",
    "print(bias2)"
   ]
  },
  {
   "cell_type": "markdown",
   "id": "935908e3",
   "metadata": {},
   "source": [
    "# Arsitektur Jaringan Syaraf Tiruan"
   ]
  },
  {
   "cell_type": "code",
   "execution_count": 22,
   "id": "ab2301e0",
   "metadata": {},
   "outputs": [],
   "source": [
    "def draw_neural_net(ax, left, right, bottom, top, layer_sizes):\n",
    "    '''\n",
    "    Draw a neural network cartoon using matplotilb.\n",
    "    \n",
    "    :usage:\n",
    "        >>> fig = plt.figure(figsize=(12, 12))\n",
    "        >>> draw_neural_net(fig.gca(), .1, .9, .1, .9, [4, 7, 2])\n",
    "    \n",
    "    :parameters:\n",
    "        - ax : matplotlib.axes.AxesSubplot\n",
    "            The axes on which to plot the cartoon (get e.g. by plt.gca())\n",
    "        - left : float\n",
    "            The center of the leftmost node(s) will be placed here\n",
    "        - right : float\n",
    "            The center of the rightmost node(s) will be placed here\n",
    "        - bottom : float\n",
    "            The center of the bottommost node(s) will be placed here\n",
    "        - top : float\n",
    "            The center of the topmost node(s) will be placed here\n",
    "        - layer_sizes : list of int\n",
    "            List of layer sizes, including input and output dimensionality\n",
    "    '''\n",
    "    n_layers = len(layer_sizes)\n",
    "    v_spacing = (top - bottom)/float(max(layer_sizes))\n",
    "    h_spacing = (right - left)/float(len(layer_sizes) - 1)\n",
    "    # Nodes\n",
    "    for n, layer_size in enumerate(layer_sizes):\n",
    "        layer_top = v_spacing*(layer_size - 1)/2. + (top + bottom)/2.\n",
    "        for m in range(layer_size):\n",
    "            circle = plt.Circle((n*h_spacing + left, layer_top - m*v_spacing), v_spacing/4.,\n",
    "                                color='w', ec='k', zorder=4)\n",
    "            ax.add_artist(circle)\n",
    "    # Edges\n",
    "    for n, (layer_size_a, layer_size_b) in enumerate(zip(layer_sizes[:-1], layer_sizes[1:])):\n",
    "        layer_top_a = v_spacing*(layer_size_a - 1)/2. + (top + bottom)/2.\n",
    "        layer_top_b = v_spacing*(layer_size_b - 1)/2. + (top + bottom)/2.\n",
    "        for m in range(layer_size_a):\n",
    "            for o in range(layer_size_b):\n",
    "                line = plt.Line2D([n*h_spacing + left, (n + 1)*h_spacing + left],\n",
    "                                  [layer_top_a - m*v_spacing, layer_top_b - o*v_spacing], c='k')\n",
    "                ax.add_artist(line)"
   ]
  },
  {
   "cell_type": "code",
   "execution_count": 23,
   "id": "5e9d8a42",
   "metadata": {},
   "outputs": [
    {
     "data": {
      "image/png": "[encoded data removed]",
      "text/plain": [
       "<Figure size 864x864 with 1 Axes>"
      ]
     },
     "metadata": {
      "needs_background": "light"
     },
     "output_type": "display_data"
    }
   ],
   "source": [
    "fig = plt.figure(figsize=(12, 12))\n",
    "ax = fig.gca()\n",
    "ax.axis('off')\n",
    "draw_neural_net(ax, .1, .9, .1, .9, [4, 5, 3])"
   ]
  },
  {
   "cell_type": "markdown",
   "id": "1cb152c0",
   "metadata": {},
   "source": [
    "Latih data training"
   ]
  },
  {
   "cell_type": "code",
   "execution_count": 26,
   "id": "23b398f8",
   "metadata": {},
   "outputs": [
    {
     "name": "stdout",
     "output_type": "stream",
     "text": [
      "Error: 0.00484635435883809\n"
     ]
    }
   ],
   "source": [
    "from sklearn.metrics import mean_squared_error\n",
    "\n",
    "\n",
    "learning_rate = 0.02 \n",
    "error = []\n",
    "for epoch in range(1000):\n",
    "   \n",
    "    \n",
    "    l1 = 1/(1 + np.exp(-(np.dot(X, w1)+bias1)))\n",
    "    #if epoch % 1==0:\n",
    "     #   print('l1',l1)\n",
    "    \n",
    "    l2 = 1/(1 + np.exp(-(np.dot(l1, w2)+bias2)))\n",
    "    \n",
    "    #if epoch % 1==0:\n",
    "     #   print('l2',l2)\n",
    "    \n",
    "    er  = mean_squared_error(y, l2)\n",
    "    \n",
    "    #print('epoch:',epoch,' error:',er)\n",
    "    error.append(er)\n",
    "    #print('target',y)\n",
    "   \n",
    "    l2_delta = (y - l2)*(l2 * (1-l2))\n",
    "    \n",
    "    bias2_delta=np.sum(l2_delta, axis=0)\n",
    "    #if epoch % 1==0:\n",
    "     #   print('l2_delta',l2_delta)\n",
    "      #  print('l2 delta shape',l2_delta.shape)\n",
    "       \n",
    "        \n",
    "    w2 += l1.T.dot(l2_delta) * learning_rate\n",
    "    \n",
    "    bias2+=bias2_delta * learning_rate\n",
    "    \n",
    "    #if epoch % 1 ==0:\n",
    "      #print('w2',w2)\n",
    "        #print('bias 2',bias2)\n",
    "    \n",
    "    l1_delta = l2_delta.dot(w2.T) * (l1 * (1-l1))\n",
    "    \n",
    "    bias1_delta=np.sum(l1_delta, axis=0)\n",
    "    \n",
    "   # if epoch % 1==0:\n",
    "    #    print('l1_delta',l1_delta)\n",
    "    \n",
    "    w1 += X.T.dot(l1_delta) * learning_rate\n",
    "    \n",
    "    bias1+=bias1_delta * learning_rate\n",
    "    \n",
    "    #if epoch % 1 ==0:\n",
    "        #print('w1',w1)\n",
    "        #print('bias 1',bias1)\n",
    "\n",
    "\n",
    "print('Error:', er)\n",
    "akurasi=(1-er)*100\n",
    "#print('accuracy',akurasi)"
   ]
  },
  {
   "cell_type": "markdown",
   "id": "eab87302",
   "metadata": {},
   "source": [
    "Plot nilai error"
   ]
  },
  {
   "cell_type": "code",
   "execution_count": 27,
   "id": "abadde6c",
   "metadata": {},
   "outputs": [
    {
     "data": {
      "text/plain": [
       "[<matplotlib.lines.Line2D at 0x1f6a9ca2f70>]"
      ]
     },
     "execution_count": 27,
     "metadata": {},
     "output_type": "execute_result"
    },
    {
     "data": {
      "image/png": "[encoded data removed]",
      "text/plain": [
       "<Figure size 432x288 with 1 Axes>"
      ]
     },
     "metadata": {
      "needs_background": "light"
     },
     "output_type": "display_data"
    }
   ],
   "source": [
    "plt.plot(error)"
   ]
  },
  {
   "cell_type": "markdown",
   "id": "451423ce",
   "metadata": {},
   "source": [
    "Testing data testing"
   ]
  },
  {
   "cell_type": "code",
   "execution_count": 28,
   "id": "413905c2",
   "metadata": {
    "scrolled": true
   },
   "outputs": [
    {
     "name": "stdout",
     "output_type": "stream",
     "text": [
      "error : 0.014697741807462847\n"
     ]
    },
    {
     "data": {
      "text/plain": [
       "array([[0.941, 0.02 , 0.005],\n",
       "       [0.   , 1.   , 0.   ],\n",
       "       [0.99 , 0.039, 0.   ],\n",
       "       [0.001, 0.999, 0.002],\n",
       "       [0.001, 0.999, 0.001],\n",
       "       [0.038, 0.978, 0.   ],\n",
       "       [0.   , 0.977, 0.028],\n",
       "       [0.001, 0.999, 0.001],\n",
       "       [0.001, 0.999, 0.001],\n",
       "       [0.001, 0.965, 0.04 ],\n",
       "       [0.   , 0.066, 0.927],\n",
       "       [0.   , 0.066, 0.927],\n",
       "       [0.986, 0.043, 0.001],\n",
       "       [0.927, 0.012, 0.01 ],\n",
       "       [0.001, 0.999, 0.   ],\n",
       "       [1.   , 0.002, 0.   ],\n",
       "       [0.999, 0.003, 0.   ],\n",
       "       [0.   , 1.   , 0.   ],\n",
       "       [0.   , 0.97 , 0.037],\n",
       "       [0.977, 0.083, 0.   ],\n",
       "       [0.   , 0.999, 0.001],\n",
       "       [0.005, 0.996, 0.   ],\n",
       "       [0.   , 0.19 , 0.801],\n",
       "       [0.98 , 0.06 , 0.001],\n",
       "       [0.001, 0.999, 0.001],\n",
       "       [0.772, 0.046, 0.01 ],\n",
       "       [0.977, 0.083, 0.   ],\n",
       "       [0.955, 0.005, 0.016],\n",
       "       [0.999, 0.003, 0.   ],\n",
       "       [0.   , 0.098, 0.893],\n",
       "       [0.854, 0.018, 0.015],\n",
       "       [1.   , 0.002, 0.   ],\n",
       "       [0.001, 0.998, 0.002],\n",
       "       [0.001, 0.999, 0.002],\n",
       "       [0.001, 0.   , 0.999],\n",
       "       [0.973, 0.073, 0.001],\n",
       "       [0.089, 0.902, 0.002],\n",
       "       [0.001, 0.935, 0.072],\n",
       "       [0.   , 0.05 , 0.944],\n",
       "       [0.017, 0.983, 0.002],\n",
       "       [0.944, 0.145, 0.   ],\n",
       "       [0.   , 1.   , 0.   ],\n",
       "       [0.   , 1.   , 0.   ]])"
      ]
     },
     "execution_count": 28,
     "metadata": {},
     "output_type": "execute_result"
    }
   ],
   "source": [
    "X = test.values[:,:4]\n",
    "y = np.array([targets[int(x)] for x in test.values[:,4:5]])\n",
    "\n",
    "l1 = 1/(1 + np.exp(-(np.dot(X, w1)+bias1)))\n",
    "l2 = 1/(1 + np.exp(-(np.dot(l1, w2)+bias2)))\n",
    "\n",
    "er  = mean_squared_error(y, l2)\n",
    "print('error :',er)\n",
    "np.round(l2,3)"
   ]
  },
  {
   "cell_type": "code",
   "execution_count": 29,
   "id": "3dfc309f",
   "metadata": {},
   "outputs": [
    {
     "name": "stdout",
     "output_type": "stream",
     "text": [
      "     Grade  Prediction\n",
      "4        1           1\n",
      "13       2           2\n",
      "22       1           1\n",
      "27       2           2\n",
      "29       2           2\n",
      "79       2           2\n",
      "84       2           2\n",
      "86       2           2\n",
      "103      2           2\n",
      "111      2           2\n",
      "134      3           3\n",
      "151      3           3\n",
      "155      1           1\n",
      "157      1           1\n",
      "182      2           2\n",
      "190      1           1\n",
      "204      1           1\n",
      "211      2           2\n",
      "220      2           2\n",
      "226      1           1\n",
      "237      2           2\n",
      "250      2           2\n",
      "253      3           3\n",
      "257      1           1\n",
      "273      2           2\n",
      "276      1           1\n",
      "277      1           1\n",
      "293      1           1\n",
      "306      1           1\n",
      "321      3           3\n",
      "327      1           1\n",
      "343      1           1\n",
      "367      2           2\n",
      "384      2           2\n",
      "388      3           3\n",
      "410      1           1\n",
      "416      2           2\n",
      "417      2           2\n",
      "423      3           3\n",
      "433      2           2\n",
      "437      2           1\n",
      "438      2           2\n",
      "472      2           2\n",
      "Correct: 42 / 43 : 97.67441860465115 %\n"
     ]
    }
   ],
   "source": [
    "#print(y)\n",
    "yp = np.argmax(l2, axis=1) \n",
    "\n",
    "res = yp == np.argmax (y, axis=1) \n",
    "#print(res)\n",
    "correct = np.sum(res)/len(res)\n",
    "\n",
    "testres = test[['Grade']].replace([0,1,2], [1,2,3])\n",
    "\n",
    "testres['Prediction'] = yp\n",
    "testres['Prediction'] = testres['Prediction'].replace([0,1,2], [1,2,3])\n",
    "\n",
    "print(testres)\n",
    "print('Correct:',sum(res),'/',len(res), ':', (correct*100),'%')\n"
   ]
  },
  {
   "cell_type": "markdown",
   "id": "e5e50bfc",
   "metadata": {},
   "source": [
    "confussion matrix"
   ]
  },
  {
   "cell_type": "code",
   "execution_count": 30,
   "id": "a8e50add",
   "metadata": {},
   "outputs": [
    {
     "name": "stdout",
     "output_type": "stream",
     "text": [
      "              precision    recall  f1-score   support\n",
      "\n",
      "           0       0.94      1.00      0.97        15\n",
      "           1       1.00      0.95      0.98        22\n",
      "           2       1.00      1.00      1.00         6\n",
      "\n",
      "    accuracy                           0.98        43\n",
      "   macro avg       0.98      0.98      0.98        43\n",
      "weighted avg       0.98      0.98      0.98        43\n",
      " \n",
      "\n",
      "\n",
      "[[15  0  0]\n",
      " [ 1 21  0]\n",
      " [ 0  0  6]]\n"
     ]
    }
   ],
   "source": [
    "from sklearn.metrics import classification_report,confusion_matrix\n",
    "pred_classes = np.argmax(l2,axis=1)\n",
    "y_test_classes = np.argmax(y,axis=1)\n",
    "print(classification_report(y_test_classes,pred_classes),\"\\n\\n\")\n",
    "print(confusion_matrix(y_test_classes,pred_classes))\n"
   ]
  }
 ],
 "metadata": {
  "kernelspec": {
   "display_name": "Python 3",
   "language": "python",
   "name": "python3"
  },
  "language_info": {
   "codemirror_mode": {
    "name": "ipython",
    "version": 3
   },
   "file_extension": ".py",
   "mimetype": "text/x-python",
   "name": "python",
   "nbconvert_exporter": "python",
   "pygments_lexer": "ipython3",
   "version": "3.8.5"
  }
 },
 "nbformat": 4,
 "nbformat_minor": 5
}
